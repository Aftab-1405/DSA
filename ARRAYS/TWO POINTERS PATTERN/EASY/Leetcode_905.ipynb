{
 "cells": [
  {
   "cell_type": "markdown",
   "id": "d919c95e",
   "metadata": {},
   "source": [
    "#### Brute force solution with TC O(nlogn)"
   ]
  },
  {
   "cell_type": "code",
   "execution_count": 1,
   "id": "c5135f3e",
   "metadata": {},
   "outputs": [],
   "source": [
    "# Time Complexity: O(n log n) - due to sorting algorithm\n",
    "# Space Complexity: O(1) if in-place, O(n) for sorted() function\n",
    "# Approach: Use custom comparator to prioritize even numbers during sorting\n",
    "\n",
    "def sortArrayByParity_sort(nums):\n",
    "    \"\"\"\n",
    "    Using custom comparator with sorting.\n",
    "    Even numbers get key=0, odd numbers get key=1\n",
    "    So evens will be sorted before odds.\n",
    "    \"\"\"\n",
    "    return sorted(nums, key=lambda x: x % 2)"
   ]
  },
  {
   "cell_type": "markdown",
   "id": "abdc2253",
   "metadata": {},
   "source": [
    "#### Optimized with 2 loops, but weak in space"
   ]
  },
  {
   "cell_type": "code",
   "execution_count": 2,
   "id": "f1cf1735",
   "metadata": {},
   "outputs": [],
   "source": [
    "# Time Complexity: O(n) - traverse array twice\n",
    "# Space Complexity: O(n) - extra result array\n",
    "# Approach: First collect all evens, then collect all odds\n",
    "\n",
    "def sortArrayByParity_double_loop(nums):\n",
    "    \"\"\"\n",
    "    Simple two-pass approach.\n",
    "    First loop: collect all even numbers\n",
    "    Second loop: collect all odd numbers\n",
    "    \"\"\"\n",
    "    result = []\n",
    "    \n",
    "    # First pass: collect all even numbers\n",
    "    for num in nums:\n",
    "        if num % 2 == 0:  # Even number\n",
    "            result.append(num)\n",
    "    \n",
    "    # Second pass: collect all odd numbers  \n",
    "    for num in nums:\n",
    "        if num % 2 != 0:  # Odd number\n",
    "            result.append(num)\n",
    "    \n",
    "    return result"
   ]
  },
  {
   "cell_type": "markdown",
   "id": "d6509a76",
   "metadata": {},
   "source": [
    "#### Single loop, uses stack DS"
   ]
  },
  {
   "cell_type": "code",
   "execution_count": 4,
   "id": "98c35ed9",
   "metadata": {},
   "outputs": [],
   "source": [
    "# Time Complexity: O(n) - single pass through array\n",
    "# Space Complexity: O(n) - stack to store odd numbers\n",
    "# Approach: Add evens directly to result, store odds in stack for later\n",
    "\n",
    "def sortArrayByParity_stack(nums):\n",
    "    \"\"\"\n",
    "    Stack-based single loop approach.\n",
    "    Evens go directly to result, odds stored in stack.\n",
    "    After loop, pop all odds from stack.\n",
    "    \"\"\"\n",
    "    stack = []      # For storing odd numbers temporarily\n",
    "    result = []     # Final result array\n",
    "    \n",
    "    # Single loop: separate odds and evens\n",
    "    for num in nums:\n",
    "        if num % 2 == 0:    # Even number\n",
    "            result.append(num)  # Add directly to result\n",
    "        else:               # Odd number  \n",
    "            stack.append(num)   # Store in stack for later\n",
    "    \n",
    "    # Pop all odds from stack and add to result\n",
    "    while stack:\n",
    "        result.append(stack.pop())\n",
    "    \n",
    "    return result"
   ]
  },
  {
   "cell_type": "markdown",
   "id": "88860a0b",
   "metadata": {},
   "source": [
    "#### Optimal solutio with 2 pointers, TC is O(n) and SC as well."
   ]
  },
  {
   "cell_type": "code",
   "execution_count": null,
   "id": "64a80585",
   "metadata": {},
   "outputs": [],
   "source": [
    "# Time Complexity: O(n) - single pass with two pointers\n",
    "# Space Complexity: O(1) - in-place modification, no extra space\n",
    "# Approach: Two pointers from start and end, swap when needed\n",
    "\n",
    "def sortArrayByParity_two_pointer(nums):\n",
    "    \"\"\"\n",
    "    Optimal two-pointer approach.\n",
    "    Left pointer finds odd numbers, right pointer finds even numbers.\n",
    "    Swap them when both conditions are met.\n",
    "    \"\"\"\n",
    "    i = 0                    # Left pointer (start)\n",
    "    j = len(nums) - 1       # Right pointer (end)\n",
    "    \n",
    "    while i < j:\n",
    "        # If left is odd and right is even - swap them\n",
    "        if nums[i] % 2 != 0 and nums[j] % 2 == 0:\n",
    "            nums[i], nums[j] = nums[j], nums[i]\n",
    "            i += 1\n",
    "            j -= 1\n",
    "        elif nums[i] % 2 == 0:  # Left is even - move left pointer\n",
    "            i += 1\n",
    "        else:                   # Right is odd - move right pointer  \n",
    "            j -= 1\n",
    "    \n",
    "    return nums"
   ]
  }
 ],
 "metadata": {
  "kernelspec": {
   "display_name": "Python 3",
   "language": "python",
   "name": "python3"
  },
  "language_info": {
   "codemirror_mode": {
    "name": "ipython",
    "version": 3
   },
   "file_extension": ".py",
   "mimetype": "text/x-python",
   "name": "python",
   "nbconvert_exporter": "python",
   "pygments_lexer": "ipython3",
   "version": "3.10.8"
  }
 },
 "nbformat": 4,
 "nbformat_minor": 5
}
