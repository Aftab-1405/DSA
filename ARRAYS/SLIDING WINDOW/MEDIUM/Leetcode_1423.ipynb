{
 "cells": [
  {
   "cell_type": "markdown",
   "id": "28b93f56",
   "metadata": {},
   "source": [
    "# Maximum Points You Can Obtain from Cards\n",
    "\n",
    "## Problem Statement\n",
    "You are given an integer array `cardPoints` of length `n` and an integer `k`. In one step, you can take one card from the beginning or from the end of the array. You have to take exactly `k` cards.\n",
    "\n",
    "Your score is the sum of the points of the cards you have taken.\n",
    "\n",
    "Given the integer array `cardPoints` and the integer `k`, return the *maximum score* you can obtain.\n",
    "\n",
    "### Example 1:\n",
    "Input: cardPoints = [1,2,3,4,5,6,1], k = 3\n",
    "Output: 12\n",
    "Explanation: After drawing 3 cards, your score is the sum of these cards.\n",
    "You can obtain 12 points by drawing cards from the end: [1,2,3,4,5,6,(1)] + [1,2,3,4,5,(6),1] + [1,2,3,4,(5),6,1] = 1 + 6 + 5 = 12\n",
    "\n",
    "### Example 2:\n",
    "Input: cardPoints = [9,7,7,9,7,7,9], k = 7\n",
    "Output: 55\n",
    "Explanation: You have to take all the cards. Your score is the sum of all cards: 9 + 7 + 7 + 9 + 7 + 7 + 9 = 55\n",
    "\n",
    "### Example 3:\n",
    "Input: cardPoints = [2,2,2], k = 2\n",
    "Output: 4\n",
    "Explanation: You will take the first and last card: 2 + 2 = 4\n",
    "\n",
    "### Constraints:\n",
    "- 1 <= cardPoints.length <= 10^5\n",
    "- 1 <= cardPoints[i] <= 10^4\n",
    "- 1 <= k <= cardPoints.length"
   ]
  },
  {
   "cell_type": "code",
   "execution_count": 1,
   "id": "61852553",
   "metadata": {},
   "outputs": [],
   "source": [
    "from typing import List\n",
    "\n",
    "class Solution:\n",
    "    def maxScore(self, cardPoints: List[int], k: int) -> int:\n",
    "        # First, handle the simple edge case where you must take all the cards.\n",
    "        # If k equals the total number of cards, the max score is simply the total sum.\n",
    "        if len(cardPoints) == k:\n",
    "            return sum(cardPoints)\n",
    "        else:\n",
    "            # --- Step 1: Set up the initial state ---\n",
    "            \n",
    "            # Start by creating a \"window\" of size k. Let's assume we take all k cards\n",
    "            # from the beginning of the list. This is our first possible score.\n",
    "            windowSum = sum(cardPoints[:k])\n",
    "            \n",
    "            # Initialize 'maxSum' with this first score. We'll update it if we find a better one.\n",
    "            maxSum = windowSum\n",
    "\n",
    "            # --- Step 2: Slide the window ---\n",
    "            \n",
    "            # 'n' is a pointer to the very last card in the list.\n",
    "            n = len(cardPoints) - 1\n",
    "\n",
    "            # This loop simulates the main action: for each card we \"give back\" from the left,\n",
    "            # we \"take\" one from the right.\n",
    "            # The loop runs 'k' times, covering all possible combinations.\n",
    "            # 'i' goes from k-1 down to 0 (e.g., for k=3, i will be 2, 1, 0).\n",
    "            for i in range(k - 1, -1, -1):\n",
    "                \n",
    "                # 'Give back' the rightmost card from our current left-side selection.\n",
    "                # In the first iteration, this removes the card at index k-1.\n",
    "                windowSum -= cardPoints[i]\n",
    "                \n",
    "                # 'Take' the rightmost available card from the entire list.\n",
    "                windowSum += cardPoints[n]\n",
    "                \n",
    "                # Check if this new combination gives us a higher score.\n",
    "                maxSum = max(maxSum, windowSum)\n",
    "                \n",
    "                # Move our right-side pointer to the left for the next iteration.\n",
    "                n -= 1\n",
    "            \n",
    "            # --- Step 3: Return the result ---\n",
    "            \n",
    "            # After the loop has checked all combinations (k from left/0 from right, \n",
    "            # k-1 from left/1 from right, etc.), maxSum will hold the best score found.\n",
    "            return maxSum"
   ]
  },
  {
   "cell_type": "code",
   "execution_count": 5,
   "id": "bb6d67ce",
   "metadata": {},
   "outputs": [
    {
     "name": "stdout",
     "output_type": "stream",
     "text": [
      "9\n"
     ]
    }
   ],
   "source": [
    "s = Solution\n",
    "print( s.maxScore(s, [1,2,3,4,5], 2))"
   ]
  }
 ],
 "metadata": {
  "kernelspec": {
   "display_name": "Python 3",
   "language": "python",
   "name": "python3"
  },
  "language_info": {
   "codemirror_mode": {
    "name": "ipython",
    "version": 3
   },
   "file_extension": ".py",
   "mimetype": "text/x-python",
   "name": "python",
   "nbconvert_exporter": "python",
   "pygments_lexer": "ipython3",
   "version": "3.10.8"
  }
 },
 "nbformat": 4,
 "nbformat_minor": 5
}
