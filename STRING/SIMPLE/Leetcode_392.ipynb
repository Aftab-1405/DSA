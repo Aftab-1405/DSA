{
 "cells": [
  {
   "cell_type": "markdown",
   "id": "b7a9eb71",
   "metadata": {},
   "source": [
    "#### Leetcode 392 Is Subsequence"
   ]
  },
  {
   "cell_type": "markdown",
   "id": "40e4e56e",
   "metadata": {},
   "source": [
    "#### This is an optimal solution with TC O(n)"
   ]
  },
  {
   "cell_type": "code",
   "execution_count": 2,
   "id": "c2614ac3",
   "metadata": {},
   "outputs": [],
   "source": [
    "class Solution:\n",
    "    def isSubsequence(self, s: str, t: str) -> bool:\n",
    "        i = 0\n",
    "        j = 0\n",
    "\n",
    "        while i < len(s) and j < len(t):\n",
    "            if s[i] == t[j]:\n",
    "                i += 1\n",
    "                j += 1\n",
    "            else:\n",
    "                j += 1\n",
    "        \n",
    "        return i == len(s)"
   ]
  },
  {
   "cell_type": "code",
   "execution_count": 3,
   "id": "1d164993",
   "metadata": {},
   "outputs": [
    {
     "name": "stdout",
     "output_type": "stream",
     "text": [
      "False\n"
     ]
    }
   ],
   "source": [
    "s = Solution()\n",
    "print( s.isSubsequence(\"abc\", \"ayebd\"))"
   ]
  },
  {
   "cell_type": "code",
   "execution_count": null,
   "id": "9826a482",
   "metadata": {},
   "outputs": [],
   "source": []
  }
 ],
 "metadata": {
  "kernelspec": {
   "display_name": "Python 3",
   "language": "python",
   "name": "python3"
  },
  "language_info": {
   "codemirror_mode": {
    "name": "ipython",
    "version": 3
   },
   "file_extension": ".py",
   "mimetype": "text/x-python",
   "name": "python",
   "nbconvert_exporter": "python",
   "pygments_lexer": "ipython3",
   "version": "3.10.8"
  }
 },
 "nbformat": 4,
 "nbformat_minor": 5
}
