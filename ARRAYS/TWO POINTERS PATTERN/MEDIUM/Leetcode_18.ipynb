{
 "cells": [
  {
   "cell_type": "markdown",
   "id": "3b864c75",
   "metadata": {},
   "source": [
    "# Leetcode 18 : 4Sum "
   ]
  },
  {
   "cell_type": "markdown",
   "id": "8447556e",
   "metadata": {},
   "source": [
    "### Brute Force Solution TC (O(n)^4)"
   ]
  },
  {
   "cell_type": "code",
   "execution_count": 2,
   "id": "5c8ac346",
   "metadata": {},
   "outputs": [],
   "source": [
    "# LeetCode 18: 4Sum\n",
    "# Given an array nums of n integers and an integer target, \n",
    "# find all unique quadruplets [nums[a], nums[b], nums[c], nums[d]] such that:\n",
    "# 0 <= a, b, c, d < n, a, b, c, and d are distinct, and\n",
    "# nums[a] + nums[b] + nums[c] + nums[d] == target\n",
    "\n",
    "def fourSum(nums, target):\n",
    "    n = len(nums)\n",
    "    nums.sort()  # Sort to help avoid duplicates\n",
    "    result = set()  # Use a set to avoid duplicate quadruplets\n",
    "\n",
    "    # Brute force: check all quadruplets\n",
    "    for i in range(n):\n",
    "        for j in range(i+1, n):\n",
    "            for k in range(j+1, n):\n",
    "                for l in range(k+1, n):\n",
    "                    # Check if the sum matches the target\n",
    "                    if nums[i] + nums[j] + nums[k] + nums[l] == target:\n",
    "                        # Add as a tuple to avoid duplicates\n",
    "                        result.add((nums[i], nums[j], nums[k], nums[l]))\n",
    "\n",
    "    # Convert set of tuples to list of lists\n",
    "    return [list(quad) for quad in result]"
   ]
  },
  {
   "cell_type": "markdown",
   "id": "3f4a6d25",
   "metadata": {},
   "source": [
    "### Optimal Solution using Two Pointers TC (O(n)^3) "
   ]
  },
  {
   "cell_type": "code",
   "execution_count": 3,
   "id": "687acb51",
   "metadata": {},
   "outputs": [],
   "source": [
    "# LeetCode 18: 4Sum ()\n",
    "def fourSumOptimal(nums, target):\n",
    "    nums.sort()\n",
    "    n = len(nums)\n",
    "    result = []\n",
    "\n",
    "    for i in range(n - 3):\n",
    "        # Skip duplicates for the first number\n",
    "        if i > 0 and nums[i] == nums[i - 1]:\n",
    "            continue\n",
    "        for j in range(i + 1, n - 2):\n",
    "            # Skip duplicates for the second number\n",
    "            if j > i + 1 and nums[j] == nums[j - 1]:\n",
    "                continue\n",
    "            left, right = j + 1, n - 1\n",
    "            while left < right:\n",
    "                total = nums[i] + nums[j] + nums[left] + nums[right]\n",
    "                if total == target:\n",
    "                    result.append([nums[i], nums[j], nums[left], nums[right]])\n",
    "                    # Skip duplicates for the third number\n",
    "                    while left < right and nums[left] == nums[left + 1]:\n",
    "                        left += 1\n",
    "                    # Skip duplicates for the fourth number\n",
    "                    while left < right and nums[right] == nums[right - 1]:\n",
    "                        right -= 1\n",
    "                    left += 1\n",
    "                    right -= 1\n",
    "                elif total < target:\n",
    "                    left += 1\n",
    "                else:\n",
    "                    right -= 1\n",
    "    return result"
   ]
  },
  {
   "cell_type": "code",
   "execution_count": 4,
   "id": "fc855abb",
   "metadata": {},
   "outputs": [
    {
     "name": "stdout",
     "output_type": "stream",
     "text": [
      "Brute Force Result:\n",
      "[[-2, -1, 1, 2], [-1, 0, 0, 1], [-2, 0, 0, 2]]\n",
      "Optimal Result:\n",
      "[[-2, -1, 1, 2], [-2, 0, 0, 2], [-1, 0, 0, 1]]\n"
     ]
    }
   ],
   "source": [
    "# Sample input\n",
    "nums = [1, 0, -1, 0, -2, 2]\n",
    "target = 0\n",
    "\n",
    "# Run brute force approach\n",
    "brute_force_result = fourSum(nums, target)\n",
    "print(\"Brute Force Result:\")\n",
    "print(brute_force_result)\n",
    "\n",
    "# Run optimal approach\n",
    "optimal_result = fourSumOptimal(nums, target)\n",
    "print(\"Optimal Result:\")\n",
    "print(optimal_result)"
   ]
  }
 ],
 "metadata": {
  "kernelspec": {
   "display_name": "Python 3",
   "language": "python",
   "name": "python3"
  },
  "language_info": {
   "codemirror_mode": {
    "name": "ipython",
    "version": 3
   },
   "file_extension": ".py",
   "mimetype": "text/x-python",
   "name": "python",
   "nbconvert_exporter": "python",
   "pygments_lexer": "ipython3",
   "version": "3.10.8"
  }
 },
 "nbformat": 4,
 "nbformat_minor": 5
}
