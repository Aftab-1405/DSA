{
 "cells": [
  {
   "cell_type": "markdown",
   "id": "8e5cae63",
   "metadata": {},
   "source": [
    "### Leetcode 80 (Remove duplicates from sorted array ||)\n",
    "##### Problem Statement\n",
    "Given a sorted integer array `nums`, remove the duplicates **in-place** such that each unique element appears **at most twice**.  \n",
    "The relative order of elements should remain the same.  \n",
    "Return the new length of the array after removing the extra duplicates."
   ]
  },
  {
   "cell_type": "markdown",
   "id": "83ced7ab",
   "metadata": {},
   "source": [
    "---\n",
    "\n",
    "#### Approach 01 — Brute Force (O(n²))\n",
    "\n",
    "#### Idea\n",
    "The simplest way to solve this problem is by:\n",
    "1. Iterating through the list.\n",
    "2. Whenever we find **three identical consecutive elements**, we remove the third one using `pop()`.\n",
    "3. Continue until no such triple exists.\n",
    "\n",
    "Since removing elements from a Python list using `pop()` is **O(n)** (shifts all elements after it), and we might perform this many times, the worst-case time complexity becomes **O(n²)**.\n",
    "\n",
    "\n",
    "#### Algorithm Steps\n",
    "1. Start iterating from index `i = 2` because the first two elements are always allowed.\n",
    "2. For each element:\n",
    "   - Compare it with the two previous elements.\n",
    "   - If all three are equal, remove the current one (`nums.pop(i)`).\n",
    "   - Else, move to the next index (`i += 1`).\n",
    "3. Stop when `i` reaches the end of the list.\n",
    "4. Return the new length (`i`) of the processed array.\n"
   ]
  },
  {
   "cell_type": "code",
   "execution_count": 12,
   "id": "f8100f14",
   "metadata": {},
   "outputs": [],
   "source": [
    "from typing import List\n",
    "\n",
    "\n",
    "def removeDuplicatesBrute(nums: List[int]) -> int:\n",
    "    i = 2\n",
    "    while i < len(nums):\n",
    "        if nums[i] == nums[i - 1] and nums[i] == nums[i - 2]:\n",
    "            nums.pop(i)\n",
    "        else:\n",
    "            i += 1\n",
    "    return i"
   ]
  },
  {
   "cell_type": "code",
   "execution_count": 7,
   "id": "a5930326",
   "metadata": {},
   "outputs": [
    {
     "name": "stdout",
     "output_type": "stream",
     "text": [
      "The length of list is : 7 and tested by brute force approach.\n"
     ]
    }
   ],
   "source": [
    "sortedDuplicatelist = [1, 1, 1, 1, 2, 3, 3, 3, 4, 4]\n",
    "print(f\"The length of list is : {removeDuplicatesBrute(sortedDuplicatelist)} and tested by brute force approach.\")"
   ]
  },
  {
   "cell_type": "markdown",
   "id": "0a058f70",
   "metadata": {},
   "source": [
    "---\n",
    "#### Approach 02 : Two Pointers such as read and write with counter variable. (O(n))\n",
    "\n",
    "#### Idea\n",
    "We can solve the problem in **O(n)** time using the **two-pointer technique**:\n",
    "- **Read pointer (`read`)** scans through the array.\n",
    "- **Write pointer (`write`)** keeps track of the position where the next allowed element should be placed.\n",
    "- Maintain a `count` of how many times the current number has appeared so far.\n",
    "\n",
    "This avoids using `pop()` (which is costly) and instead overwrites extra duplicates in place.\n",
    "\n",
    "#### Algorithm Steps\n",
    "1. Initialize:\n",
    "   - `write = 1` (position to write the next valid element)\n",
    "   - `count = 1` (current element count)\n",
    "2. Loop through the array starting from index `1`:\n",
    "   - If the current number is **different** from the previous:\n",
    "     - Reset `count = 1`\n",
    "   - Else (same number):\n",
    "     - Increment `count += 1`\n",
    "   - If `count <= 2`:\n",
    "     - Copy the current element to the `write` position.\n",
    "     - Increment `write`.\n",
    "3. At the end, `write` will represent the new length of the array.\n",
    "4. Return `write`.\n",
    "\n"
   ]
  },
  {
   "cell_type": "code",
   "execution_count": 8,
   "id": "4b9ad371",
   "metadata": {},
   "outputs": [],
   "source": [
    "def removeDuplicatesBetter(nums: List[int]) -> int:\n",
    "    write = 1\n",
    "    count = 1\n",
    "\n",
    "    for read in range(1, len(nums)):\n",
    "        if nums[read] != nums[read - 1]:\n",
    "            count = 1\n",
    "        else:\n",
    "            count += 1\n",
    "        \n",
    "        if count <= 2:\n",
    "            nums[write] = nums[read]\n",
    "            write += 1\n",
    "    return write\n"
   ]
  },
  {
   "cell_type": "code",
   "execution_count": 9,
   "id": "db840a84",
   "metadata": {},
   "outputs": [
    {
     "name": "stdout",
     "output_type": "stream",
     "text": [
      "The length of list is : 7 and tested by better approach.\n"
     ]
    }
   ],
   "source": [
    "sortedDuplicatelist = [1, 1, 1, 1, 2, 3, 3, 3, 4, 4]\n",
    "print(f\"The length of list is : {removeDuplicatesBetter(sortedDuplicatelist)} and tested by better approach.\")"
   ]
  },
  {
   "cell_type": "markdown",
   "id": "979052ff",
   "metadata": {},
   "source": [
    "#### 03. Optimal solution with simplified two pointers. TC O(n)"
   ]
  },
  {
   "cell_type": "code",
   "execution_count": 10,
   "id": "f0718a21",
   "metadata": {},
   "outputs": [],
   "source": [
    "def removeDuplicatesOptimal(nums: List[int]) -> int:\n",
    "    write = 0\n",
    "\n",
    "    for num in nums:\n",
    "        if write < 2 or num > nums[write - 2]:\n",
    "            nums[write] = num\n",
    "            write += 1\n",
    "    \n",
    "    return write"
   ]
  },
  {
   "cell_type": "code",
   "execution_count": 11,
   "id": "4dcae26c",
   "metadata": {},
   "outputs": [
    {
     "name": "stdout",
     "output_type": "stream",
     "text": [
      "The length of list is : 7 and tested by optimal approach.\n"
     ]
    }
   ],
   "source": [
    "sortedDuplicatelist = [1, 1, 1, 1, 2, 3, 3, 3, 4, 4]\n",
    "print(f\"The length of list is : {removeDuplicatesOptimal(sortedDuplicatelist)} and tested by optimal approach.\")"
   ]
  }
 ],
 "metadata": {
  "kernelspec": {
   "display_name": "Python 3",
   "language": "python",
   "name": "python3"
  },
  "language_info": {
   "codemirror_mode": {
    "name": "ipython",
    "version": 3
   },
   "file_extension": ".py",
   "mimetype": "text/x-python",
   "name": "python",
   "nbconvert_exporter": "python",
   "pygments_lexer": "ipython3",
   "version": "3.10.8"
  }
 },
 "nbformat": 4,
 "nbformat_minor": 5
}
