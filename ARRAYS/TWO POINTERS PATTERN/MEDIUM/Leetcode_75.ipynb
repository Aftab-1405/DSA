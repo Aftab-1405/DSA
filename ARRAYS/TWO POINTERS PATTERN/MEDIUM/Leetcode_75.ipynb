{
 "cells": [
  {
   "cell_type": "markdown",
   "id": "da9c3396",
   "metadata": {},
   "source": [
    "#### Leetcode 75 (Sort 0s, 1s, and 2s)"
   ]
  },
  {
   "cell_type": "markdown",
   "id": "a75cb4b5",
   "metadata": {},
   "source": [
    "#### Brute force (nlog(n))\n",
    "\n",
    "This solution uses built-in `sort()` function of python. This solution can be applicable for input size 10^6, beyond that TLE will occur, becuase on coding platform the time in calculated based on the number of operations done by single core per second and max limit is 10^8 ops/sec."
   ]
  },
  {
   "cell_type": "code",
   "execution_count": 1,
   "id": "612244f3",
   "metadata": {},
   "outputs": [],
   "source": [
    "def sortBrute(arr):\n",
    "    arr.sort()"
   ]
  },
  {
   "cell_type": "markdown",
   "id": "fb1db594",
   "metadata": {},
   "source": [
    "#### Optimal solution (O(n))\n",
    "This approach used `dutch national flag` algorithm to solve this problem."
   ]
  },
  {
   "cell_type": "code",
   "execution_count": 2,
   "id": "beebddf7",
   "metadata": {},
   "outputs": [],
   "source": [
    "def sortOptimal(arr):\n",
    "    red = 0\n",
    "    white = 0\n",
    "    blue = len(arr) - 1\n",
    "\n",
    "    while white <= blue:\n",
    "        if arr[white] == 0:\n",
    "            arr[red], arr[white] = arr[white], arr[red]\n",
    "            red += 1\n",
    "            white += 1\n",
    "        elif arr[white] == 1:\n",
    "            white += 1\n",
    "        else:\n",
    "            arr[white], arr[blue] = arr[blue], arr[white]\n",
    "            blue -= 1\n",
    "            "
   ]
  },
  {
   "cell_type": "code",
   "execution_count": 3,
   "id": "0f636b9c",
   "metadata": {},
   "outputs": [
    {
     "name": "stdout",
     "output_type": "stream",
     "text": [
      "[0, 0, 1, 1, 2, 2, 2]\n"
     ]
    }
   ],
   "source": [
    "arr = [0, 1, 1, 2, 0, 2, 2]\n",
    "sortOptimal(arr)\n",
    "print(arr)"
   ]
  }
 ],
 "metadata": {
  "kernelspec": {
   "display_name": "Python 3",
   "language": "python",
   "name": "python3"
  },
  "language_info": {
   "codemirror_mode": {
    "name": "ipython",
    "version": 3
   },
   "file_extension": ".py",
   "mimetype": "text/x-python",
   "name": "python",
   "nbconvert_exporter": "python",
   "pygments_lexer": "ipython3",
   "version": "3.10.8"
  }
 },
 "nbformat": 4,
 "nbformat_minor": 5
}
