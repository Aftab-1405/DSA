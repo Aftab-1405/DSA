{
 "cells": [
  {
   "cell_type": "markdown",
   "id": "d3ba629d",
   "metadata": {},
   "source": [
    "#### Leetcode 16 (Most contained water)\n",
    "\n",
    "Problem statement:\n",
    "Given an array of non-negative integers heights where each element represents the height of a vertical line at that index, find two lines that together with the x-axis form a container that contains the most water. The amount of water a pair of lines at indices i and j can contain is:\n",
    "\n",
    "area = min(heights[i], heights[j]) * (j - i)\n",
    "\n",
    "Return the maximum possible area.\n",
    "\n",
    "Example:\n",
    "- Input: [1,8,6,2,5,4,8,3,7]\n",
    "- Output: 49\n",
    "- Explanation: Choosing lines at indices 1 and 8 (0-based) gives area = min(8,7) * (8-1) = 7 * 7 = 49.\n",
    "\n",
    "Constraints (typical):\n",
    "- 2 <= len(heights) <= 10^5\n",
    "- 0 <= heights[i] <= 10^4\n",
    "\n",
    "Typical optimal approach: two-pointer scan from both ends in O(n) time and O(1) extra space."
   ]
  },
  {
   "cell_type": "code",
   "execution_count": 1,
   "id": "eea548e8",
   "metadata": {},
   "outputs": [],
   "source": [
    "from typing import List\n",
    "\n",
    "def maxArea(height: List[int]) -> int:\n",
    "    low, high = 0, len(height) - 1\n",
    "    width = len(height) - 1\n",
    "    maxStorage = 0\n",
    "\n",
    "    while low < high:\n",
    "        if height[low] < height[high]:\n",
    "            currentStorage = height[low] * width\n",
    "            maxStorage = max(maxStorage, currentStorage)\n",
    "            low += 1\n",
    "            width -= 1\n",
    "        else:\n",
    "            currentStorage = height[high] * width\n",
    "            maxStorage = max(maxStorage, currentStorage)\n",
    "            high -= 1\n",
    "            width -= 1\n",
    "        \n",
    "    return maxStorage"
   ]
  },
  {
   "cell_type": "code",
   "execution_count": 7,
   "id": "68dc695a",
   "metadata": {},
   "outputs": [
    {
     "name": "stdout",
     "output_type": "stream",
     "text": [
      "The max water we can containe is: 49\n"
     ]
    }
   ],
   "source": [
    "height = [1,8,6,2,5,4,8,3,7]\n",
    "print(f\"The max water we can containe is: {maxArea(height)}\")"
   ]
  }
 ],
 "metadata": {
  "kernelspec": {
   "display_name": "Python 3",
   "language": "python",
   "name": "python3"
  },
  "language_info": {
   "codemirror_mode": {
    "name": "ipython",
    "version": 3
   },
   "file_extension": ".py",
   "mimetype": "text/x-python",
   "name": "python",
   "nbconvert_exporter": "python",
   "pygments_lexer": "ipython3",
   "version": "3.10.8"
  }
 },
 "nbformat": 4,
 "nbformat_minor": 5
}
